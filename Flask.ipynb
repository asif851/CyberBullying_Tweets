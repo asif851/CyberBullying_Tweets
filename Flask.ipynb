{
 "cells": [
  {
   "cell_type": "code",
   "execution_count": null,
   "id": "b06e8bb1",
   "metadata": {},
   "outputs": [
    {
     "name": "stdout",
     "output_type": "stream",
     "text": [
      " * Serving Flask app '__main__' (lazy loading)\n",
      " * Environment: production\n",
      "\u001b[31m   WARNING: This is a development server. Do not use it in a production deployment.\u001b[0m\n",
      "\u001b[2m   Use a production WSGI server instead.\u001b[0m\n",
      " * Debug mode: off\n"
     ]
    },
    {
     "name": "stderr",
     "output_type": "stream",
     "text": [
      " * Running on http://127.0.0.1:5000 (Press CTRL+C to quit)\n",
      "127.0.0.1 - - [22/Sep/2022 02:05:12] \"GET / HTTP/1.1\" 200 -\n",
      "127.0.0.1 - - [22/Sep/2022 02:05:12] \"GET /favicon.ico HTTP/1.1\" 404 -\n",
      "127.0.0.1 - - [22/Sep/2022 02:05:27] \"POST /predict HTTP/1.1\" 200 -\n",
      "127.0.0.1 - - [22/Sep/2022 02:05:36] \"GET / HTTP/1.1\" 200 -\n",
      "127.0.0.1 - - [22/Sep/2022 02:05:47] \"POST /predict HTTP/1.1\" 200 -\n",
      "127.0.0.1 - - [22/Sep/2022 02:05:53] \"GET / HTTP/1.1\" 200 -\n",
      "127.0.0.1 - - [22/Sep/2022 02:06:10] \"POST /predict HTTP/1.1\" 200 -\n",
      "127.0.0.1 - - [22/Sep/2022 02:06:18] \"GET / HTTP/1.1\" 200 -\n",
      "127.0.0.1 - - [22/Sep/2022 02:06:47] \"POST /predict HTTP/1.1\" 200 -\n",
      "127.0.0.1 - - [22/Sep/2022 02:06:51] \"GET / HTTP/1.1\" 200 -\n",
      "127.0.0.1 - - [22/Sep/2022 02:07:37] \"GET / HTTP/1.1\" 200 -\n",
      "127.0.0.1 - - [22/Sep/2022 02:07:58] \"POST /predict HTTP/1.1\" 200 -\n",
      "127.0.0.1 - - [22/Sep/2022 02:08:04] \"GET / HTTP/1.1\" 200 -\n",
      "127.0.0.1 - - [22/Sep/2022 02:08:35] \"POST /predict HTTP/1.1\" 200 -\n"
     ]
    }
   ],
   "source": [
    "import numpy as np\n",
    "from flask import Flask, request, render_template\n",
    "import pickle\n",
    "from sklearn.feature_extraction.text import CountVectorizer\n",
    "from sklearn.naive_bayes import MultinomialNB\n",
    "import joblib\n",
    "\n",
    "# load the model from disk\n",
    "filename = 'pickle.pkl'\n",
    "clf = pickle.load(open(filename, 'rb'))\n",
    "tfidf_v=pickle.load(open('tranform.pkl','rb'))\n",
    "\n",
    "\n",
    "app = Flask(__name__)\n",
    "@app.route('/')\n",
    "def home():\n",
    "    return render_template('home.html')\n",
    "\n",
    "@app.route('/predict',methods=['POST'])\n",
    "def predict():\n",
    "\n",
    "    if request.method == 'POST':\n",
    "        message = request.form['message']\n",
    "        data = [message]\n",
    "        vect =tfidf_v.transform(data).toarray()\n",
    "        my_prediction = clf.predict(vect)\n",
    "    return render_template('result.html',prediction = my_prediction)\n",
    "\n",
    "if __name__ == \"__main__\":\n",
    "    app.run()"
   ]
  },
  {
   "cell_type": "code",
   "execution_count": null,
   "id": "1ac664e5",
   "metadata": {},
   "outputs": [],
   "source": []
  }
 ],
 "metadata": {
  "kernelspec": {
   "display_name": "Python 3",
   "language": "python",
   "name": "python3"
  },
  "language_info": {
   "codemirror_mode": {
    "name": "ipython",
    "version": 3
   },
   "file_extension": ".py",
   "mimetype": "text/x-python",
   "name": "python",
   "nbconvert_exporter": "python",
   "pygments_lexer": "ipython3",
   "version": "3.10.5"
  }
 },
 "nbformat": 4,
 "nbformat_minor": 5
}
